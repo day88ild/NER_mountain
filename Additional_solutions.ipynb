{
 "cells": [
  {
   "cell_type": "code",
   "execution_count": 1,
   "id": "6ed9d149",
   "metadata": {},
   "outputs": [],
   "source": [
    "import os\n",
    "import dotenv\n",
    "from groq import Groq"
   ]
  },
  {
   "cell_type": "code",
   "execution_count": 4,
   "id": "3927cfae",
   "metadata": {},
   "outputs": [
    {
     "data": {
      "text/plain": [
       "True"
      ]
     },
     "execution_count": 4,
     "metadata": {},
     "output_type": "execute_result"
    }
   ],
   "source": [
    "dotenv.load_dotenv()"
   ]
  },
  {
   "cell_type": "markdown",
   "id": "a10b1ac1",
   "metadata": {},
   "source": [
    "### Generating data using Groq API"
   ]
  },
  {
   "cell_type": "code",
   "execution_count": 24,
   "id": "44a9c8a8",
   "metadata": {},
   "outputs": [],
   "source": [
    "# groq api (create .env file with appropriate parameters)\n",
    "GROQ_API = os.getenv(\"GROQ_API_KEY\")\n",
    "\n",
    "# prompts that are used later\n",
    "PROMPT_DATA = \"\"\"\n",
    "Generate NER data for mountains.\n",
    "Generate 3 sentences and 3 labels to them.\n",
    "The output should look like this and dont contain anything else (1 as a label represents a mountain):\n",
    "{'tokens':[[token11, token12, token13, token14],\n",
    "           [token21, token22, token23],\n",
    "           [token31, token32, token33, token34]],\n",
    " 'labels':[[1, 0, 0, 1],\n",
    "           [0, 0, 0],\n",
    "           [1, 1, 0 , 0]]\"}\n",
    "           \n",
    "Here is the example of correct output:\n",
    "\n",
    "\"{'tokens':[['The', 'Mount', 'Everest', 'is', 'one', 'of', 'the', 'tallest', 'in', 'the', 'world'],\n",
    "           ['The', 'Himalayas', 'are', 'home', 'to', 'many', 'such', 'peaks'],\n",
    "           ['Mount', 'Kilimanjaro', 'is', 'located', 'in', 'Tanzania']],\n",
    " 'labels':[[0, 1, 1, 0, 0, 0, 0, 0, 0, 0],\n",
    "           [0, 1, 0, 0, 0, 0, 0, 0],\n",
    "           [1, 1, 0, 0, 0, 0, 0]]}\"\n",
    "\n",
    "\"\"\"\n",
    "\n",
    "PROMPT_NER = \"\"\"\n",
    "You faced NER problem and have to answer questions.\n",
    "Highlight the mountains by labels:\n",
    "You get tokenized input that looks like that:\n",
    "['The', 'Mount', 'Everest', 'is', 'one', 'of', 'the', 'tallest', 'in', 'the', 'world']\n",
    "and have to output labels correcponding to the input:\n",
    "[0, 1, 1, 0, 0, 0, 0, 0, 0, 0]\n",
    "\n",
    "DO NOT OUTPUT ANYTHING ELSE, JUST LABELS\n",
    "\n",
    "\n",
    "THE INPUT:\n",
    "\n",
    "%s\n",
    "\n",
    "THE OUTPUT:\n",
    "\n",
    "\"\"\""
   ]
  },
  {
   "cell_type": "code",
   "execution_count": 19,
   "id": "5399f513",
   "metadata": {},
   "outputs": [
    {
     "name": "stdout",
     "output_type": "stream",
     "text": [
      "Here is the generated NER data for mountains:\n",
      "\n",
      "{'tokens':[['The', 'Rocky', 'Mountains', 'are', 'in', 'North', 'America'],\n",
      "           ['The', 'Cascade', 'Range', 'is', 'in', 'Washington'],\n",
      "           ['K2', 'is', 'in', 'Pakistan', 'and', 'China']],\n",
      " 'labels':[[1, 0, 1, 0, 0, 0, 0],\n",
      "           [0, 0, 1, 0, 0, 0],\n",
      "           [1, 0, 0, 0, 0, 0]]}\n",
      "\n",
      "Here are the explanations for the labels:\n",
      "\n",
      "* 'Rocky Mountains' is a mountain range and corresponds to label 1.\n",
      "* 'Cascade Range' is a mountain range and corresponds to label 1.\n",
      "* 'K2' is a mountain and corresponds to label 1.\n"
     ]
    }
   ],
   "source": [
    "# an easy way to generate data using LLMs\n",
    "\n",
    "client = Groq(\n",
    "    api_key=GROQ_API,\n",
    ")\n",
    "\n",
    "chat_completion = client.chat.completions.create(\n",
    "    messages=[\n",
    "        {\n",
    "            \"role\": \"user\",\n",
    "            \"content\": PROMPT_DATA,\n",
    "        }\n",
    "    ],\n",
    "    model=\"llama3-8b-8192\",\n",
    ")\n",
    "\n",
    "print(chat_completion.choices[0].message.content)"
   ]
  },
  {
   "cell_type": "markdown",
   "id": "439e7bf9",
   "metadata": {},
   "source": [
    "### Simple fast and cheap solutions"
   ]
  },
  {
   "cell_type": "markdown",
   "id": "f9b402de",
   "metadata": {},
   "source": [
    "#### NER using prompting with Groq"
   ]
  },
  {
   "cell_type": "code",
   "execution_count": 25,
   "id": "3d69c0e5",
   "metadata": {},
   "outputs": [
    {
     "name": "stdout",
     "output_type": "stream",
     "text": [
      "Enter the sentance:The Rocky Mountains are in North America\n",
      "[0, 1, 1, 0, 0, 0, 1]\n"
     ]
    }
   ],
   "source": [
    "# solve NER problem using LLMs \n",
    "\n",
    "sentence = input(\"Enter the sentance:\").split()\n",
    "\n",
    "client = Groq(\n",
    "    api_key=GROQ_API,\n",
    ")\n",
    "\n",
    "chat_completion = client.chat.completions.create(\n",
    "    messages=[\n",
    "        {\n",
    "            \"role\": \"user\",\n",
    "            \"content\": PROMPT_NER % sentence,\n",
    "        }\n",
    "    ],\n",
    "    model=\"llama3-8b-8192\",\n",
    ")\n",
    "\n",
    "print(chat_completion.choices[0].message.content)"
   ]
  },
  {
   "cell_type": "code",
   "execution_count": null,
   "id": "6f82b4a9",
   "metadata": {},
   "outputs": [],
   "source": []
  }
 ],
 "metadata": {
  "kernelspec": {
   "display_name": "Python 3 (ipykernel)",
   "language": "python",
   "name": "python3"
  },
  "language_info": {
   "codemirror_mode": {
    "name": "ipython",
    "version": 3
   },
   "file_extension": ".py",
   "mimetype": "text/x-python",
   "name": "python",
   "nbconvert_exporter": "python",
   "pygments_lexer": "ipython3",
   "version": "3.9.16"
  }
 },
 "nbformat": 4,
 "nbformat_minor": 5
}
