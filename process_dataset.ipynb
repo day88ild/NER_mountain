{
 "cells": [
  {
   "cell_type": "code",
   "execution_count": 1,
   "id": "a8832a4f",
   "metadata": {},
   "outputs": [],
   "source": [
    "import torch\n",
    "from transformers import RobertaTokenizerFast\n",
    "from datasets import load_dataset\n",
    "import numpy as np\n",
    "import os\n",
    "import dotenv"
   ]
  },
  {
   "cell_type": "code",
   "execution_count": 3,
   "id": "267edeea",
   "metadata": {},
   "outputs": [
    {
     "data": {
      "text/plain": [
       "True"
      ]
     },
     "execution_count": 3,
     "metadata": {},
     "output_type": "execute_result"
    }
   ],
   "source": [
    "# load .env file\n",
    "dotenv.load_dotenv()"
   ]
  },
  {
   "cell_type": "code",
   "execution_count": 42,
   "id": "0a711c95",
   "metadata": {},
   "outputs": [],
   "source": [
    "MAX_LENGTH = 32\n",
    "DATA_PATH = os.getenv(\"DATA_PATH\")"
   ]
  },
  {
   "cell_type": "code",
   "execution_count": 3,
   "id": "c0951138",
   "metadata": {},
   "outputs": [],
   "source": [
    "# Load the tokenizer for the RoBERTa model\n",
    "\n",
    "tokenizer = RobertaTokenizerFast.from_pretrained('roberta-base', add_prefix_space=True)"
   ]
  },
  {
   "cell_type": "code",
   "execution_count": 4,
   "id": "4e75f7f7",
   "metadata": {},
   "outputs": [
    {
     "data": {
      "text/plain": [
       "{'input_ids': [0, 103, 3645, 2], 'attention_mask': [1, 1, 1, 1]}"
      ]
     },
     "execution_count": 4,
     "metadata": {},
     "output_type": "execute_result"
    }
   ],
   "source": [
    "tokenizer(\"some sentence\")"
   ]
  },
  {
   "cell_type": "code",
   "execution_count": 5,
   "id": "b719ead9",
   "metadata": {},
   "outputs": [],
   "source": [
    "# Load the dataset from hugging face\n",
    "\n",
    "dataset = load_dataset(\"telord/ner-mountains-first-dataset\")"
   ]
  },
  {
   "cell_type": "code",
   "execution_count": 6,
   "id": "3d77aa71",
   "metadata": {},
   "outputs": [
    {
     "data": {
      "text/plain": [
       "DatasetDict({\n",
       "    train: Dataset({\n",
       "        features: ['sentence', 'tokens', 'labels'],\n",
       "        num_rows: 3064\n",
       "    })\n",
       "    test: Dataset({\n",
       "        features: ['sentence', 'tokens', 'labels'],\n",
       "        num_rows: 340\n",
       "    })\n",
       "})"
      ]
     },
     "execution_count": 6,
     "metadata": {},
     "output_type": "execute_result"
    }
   ],
   "source": [
    "dataset"
   ]
  },
  {
   "cell_type": "code",
   "execution_count": 22,
   "id": "1860c01d",
   "metadata": {},
   "outputs": [],
   "source": [
    "# function to prepare dataset for training \n",
    "# function solves the problem of subtokens and special tokens\n",
    "\n",
    "def prepare_dataset(data, tokenizer, max_length):\n",
    "    # tokenize the dataset\n",
    "    tokenized_inputs = tokenizer(data[\"tokens\"],\n",
    "                                 truncation=True,\n",
    "                                 padding=\"max_length\",\n",
    "                                 max_length=MAX_LENGTH,\n",
    "                                 is_split_into_words=True,\n",
    "                                 return_tensors=\"pt\",\n",
    "                                 return_attention_mask=True) \n",
    "    \n",
    "    new_labels = [] # processed labels\n",
    "    \n",
    "    for i, label in enumerate(data[\"labels\"]):\n",
    "        word_id = tokenized_inputs.word_ids(batch_index=i) # get word ids \n",
    "                \n",
    "        new_label = [] # processed one label\n",
    "        for j in word_id:\n",
    "            if j is None:\n",
    "                new_label.append(0) # give label 0 for spacial tokens (<pad>, <s>, </s>)\n",
    "            else:\n",
    "                new_label.append(int(label[j] != 0)) # for each subword give its word label\n",
    "        new_labels.append(new_label)\n",
    "    \n",
    "    new_labels = torch.Tensor(new_labels) # convert to Tensor\n",
    "    tokenized_inputs[\"labels\"] = new_labels\n",
    "    \n",
    "    return tokenized_inputs"
   ]
  },
  {
   "cell_type": "code",
   "execution_count": 23,
   "id": "44a85723",
   "metadata": {},
   "outputs": [],
   "source": [
    "# create torch dataset object\n",
    "\n",
    "class CustomRoBERTaDataset(torch.utils.data.Dataset):\n",
    "    def __init__(self, input_ids, attention_mask, labels, max_length):\n",
    "        self.input_ids = input_ids\n",
    "        self.attention_mask = attention_mask\n",
    "        self.labels = labels\n",
    "\n",
    "    def __len__(self):\n",
    "        return len(self.input_ids)\n",
    "\n",
    "    def __getitem__(self, idx):\n",
    "        return {\n",
    "            'input_ids': self.input_ids[idx],\n",
    "            'attention_mask': self.attention_mask[idx],\n",
    "            'labels': self.labels[idx]\n",
    "        }"
   ]
  },
  {
   "cell_type": "code",
   "execution_count": 24,
   "id": "da473c9f",
   "metadata": {},
   "outputs": [],
   "source": [
    "# train data\n",
    "train_data = prepare_dataset(data=dataset[\"train\"],\n",
    "                             tokenizer=tokenizer,\n",
    "                             max_length=MAX_LENGTH)\n",
    "\n",
    "# test data\n",
    "test_data = prepare_dataset(data=dataset[\"test\"],\n",
    "                             tokenizer=tokenizer,\n",
    "                             max_length=MAX_LENGTH)"
   ]
  },
  {
   "cell_type": "code",
   "execution_count": 35,
   "id": "1ab3b4ef",
   "metadata": {},
   "outputs": [],
   "source": [
    "# create datasets\n",
    "train_dataset = CustomRoBERTaDataset(train_data[\"input_ids\"],\n",
    "                                     train_data[\"attention_mask\"],\n",
    "                                     train_data[\"labels\"], max_length=MAX_LENGTH)\n",
    "\n",
    "test_dataset = CustomRoBERTaDataset(test_data[\"input_ids\"],\n",
    "                                    test_data[\"attention_mask\"],\n",
    "                                    test_data[\"labels\"], max_length=MAX_LENGTH)"
   ]
  },
  {
   "cell_type": "code",
   "execution_count": 36,
   "id": "55061c34",
   "metadata": {},
   "outputs": [],
   "source": [
    "# save datasets\n",
    "\n",
    "torch.save(train_dataset, os.path.join(DATA_PATH, \"processed_train_dataset.pt\"))\n",
    "torch.save(test_dataset, os.path.join(DATA_PATH, \"processed_test_dataset.pt\"))"
   ]
  },
  {
   "cell_type": "code",
   "execution_count": 39,
   "id": "42b971eb",
   "metadata": {},
   "outputs": [
    {
     "data": {
      "text/plain": [
       "0.5003263707571801"
      ]
     },
     "execution_count": 39,
     "metadata": {},
     "output_type": "execute_result"
    }
   ],
   "source": [
    "# calculate the percentage of instances without mentioning mountains\n",
    "\n",
    "s = 0\n",
    "for lst in dataset[\"train\"][\"labels\"]:\n",
    "    lst = list(map(lambda x: int(x != 0), lst))\n",
    "    s += any(lst)\n",
    "s / len(dataset[\"train\"][\"labels\"])"
   ]
  },
  {
   "cell_type": "code",
   "execution_count": null,
   "id": "ee45a6c5",
   "metadata": {},
   "outputs": [],
   "source": []
  }
 ],
 "metadata": {
  "kernelspec": {
   "display_name": "Python 3 (ipykernel)",
   "language": "python",
   "name": "python3"
  },
  "language_info": {
   "codemirror_mode": {
    "name": "ipython",
    "version": 3
   },
   "file_extension": ".py",
   "mimetype": "text/x-python",
   "name": "python",
   "nbconvert_exporter": "python",
   "pygments_lexer": "ipython3",
   "version": "3.9.16"
  }
 },
 "nbformat": 4,
 "nbformat_minor": 5
}
