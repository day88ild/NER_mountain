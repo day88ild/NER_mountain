{
 "cells": [
  {
   "cell_type": "code",
   "execution_count": 41,
   "id": "a8832a4f",
   "metadata": {},
   "outputs": [],
   "source": [
    "import torch\n",
    "from transformers import RobertaTokenizer\n",
    "from datasets import load_dataset\n",
    "import numpy as np"
   ]
  },
  {
   "cell_type": "code",
   "execution_count": 18,
   "id": "0a711c95",
   "metadata": {},
   "outputs": [],
   "source": [
    "MAX_LENGTH=32"
   ]
  },
  {
   "cell_type": "code",
   "execution_count": 19,
   "id": "c0951138",
   "metadata": {},
   "outputs": [],
   "source": [
    "# Load the tokenizer for the RoBERTa model\n",
    "\n",
    "tokenizer = RobertaTokenizer.from_pretrained('roberta-base')"
   ]
  },
  {
   "cell_type": "code",
   "execution_count": 20,
   "id": "b719ead9",
   "metadata": {},
   "outputs": [],
   "source": [
    "# Load the dataset from hugging face\n",
    "\n",
    "dataset = load_dataset(\"telord/ner-mountains-first-dataset\")"
   ]
  },
  {
   "cell_type": "code",
   "execution_count": 21,
   "id": "3d77aa71",
   "metadata": {},
   "outputs": [
    {
     "data": {
      "text/plain": [
       "DatasetDict({\n",
       "    train: Dataset({\n",
       "        features: ['sentence', 'tokens', 'labels'],\n",
       "        num_rows: 3064\n",
       "    })\n",
       "    test: Dataset({\n",
       "        features: ['sentence', 'tokens', 'labels'],\n",
       "        num_rows: 340\n",
       "    })\n",
       "})"
      ]
     },
     "execution_count": 21,
     "metadata": {},
     "output_type": "execute_result"
    }
   ],
   "source": [
    "dataset"
   ]
  },
  {
   "cell_type": "code",
   "execution_count": 22,
   "id": "70577d7a",
   "metadata": {},
   "outputs": [],
   "source": [
    "# function to prepare data labels for training (padding and changing label classes)\n",
    "\n",
    "def prepare_labels(data, max_length):\n",
    "    padded_data = []\n",
    "    for label in data:\n",
    "        label = list(map(lambda x: int(x != 0), label))\n",
    "        \n",
    "        if len(label) + 1 <= max_length:\n",
    "            padded_label = [0] * (max_length - (len(label) + 1)) + label + [0]\n",
    "        else:\n",
    "            padded_label = [0] + label[:max_length - 2] + [0]\n",
    "            \n",
    "        padded_data.append(padded_label)\n",
    "    return padded_data"
   ]
  },
  {
   "cell_type": "code",
   "execution_count": 23,
   "id": "d4dfa038",
   "metadata": {},
   "outputs": [],
   "source": [
    "# tokenize train data tokens\n",
    "\n",
    "train_data = tokenizer(dataset[\"train\"][\"tokens\"],\n",
    "                      truncation=True,\n",
    "                      padding=\"max_length\",\n",
    "                      max_length=MAX_LENGTH,\n",
    "                      is_split_into_words=True,\n",
    "                      return_tensors=\"pt\",\n",
    "                      return_attention_mask=True)\n",
    "\n",
    "# tokenize test data_tokens\n",
    "\n",
    "test_data = tokenizer(dataset[\"test\"][\"tokens\"],\n",
    "                      truncation=True,\n",
    "                      padding=\"max_length\",\n",
    "                      max_length=MAX_LENGTH,\n",
    "                      is_split_into_words=True,\n",
    "                      return_tensors=\"pt\",\n",
    "                      return_attention_mask=True)"
   ]
  },
  {
   "cell_type": "code",
   "execution_count": 24,
   "id": "4403045f",
   "metadata": {},
   "outputs": [],
   "source": [
    "# prepare train labels\n",
    "train_labels = torch.Tensor(prepare_labels(dataset[\"train\"][\"labels\"], MAX_LENGTH))\n",
    "# prepare test labels\n",
    "test_labels = torch.Tensor(prepare_labels(dataset[\"test\"][\"labels\"], MAX_LENGTH))"
   ]
  },
  {
   "cell_type": "code",
   "execution_count": 25,
   "id": "b66b8f46",
   "metadata": {},
   "outputs": [
    {
     "data": {
      "text/plain": [
       "(torch.Size([3064, 32]), torch.Size([340, 32]))"
      ]
     },
     "execution_count": 25,
     "metadata": {},
     "output_type": "execute_result"
    }
   ],
   "source": [
    "train_labels.shape, test_labels.shape"
   ]
  },
  {
   "cell_type": "code",
   "execution_count": 26,
   "id": "4a60c5bc",
   "metadata": {},
   "outputs": [],
   "source": [
    "train_data[\"labels\"] = train_labels\n",
    "test_data[\"labels\"] = test_labels"
   ]
  },
  {
   "cell_type": "code",
   "execution_count": 27,
   "id": "44a85723",
   "metadata": {},
   "outputs": [],
   "source": [
    "class CustomRoBERTaDataset(torch.utils.data.Dataset):\n",
    "    def __init__(self, input_ids, attention_mask, labels, max_length):\n",
    "        self.input_ids = input_ids\n",
    "        self.attention_mask = attention_mask\n",
    "        self.labels = labels\n",
    "\n",
    "    def __len__(self):\n",
    "        return len(self.input_ids)\n",
    "\n",
    "    def __getitem__(self, idx):\n",
    "        return {\n",
    "            'input_ids': self.input_ids[idx],\n",
    "            'attention_mask': self.attention_mask[idx],\n",
    "            'labels': self.labels[idx]\n",
    "        }"
   ]
  },
  {
   "cell_type": "code",
   "execution_count": 28,
   "id": "1ab3b4ef",
   "metadata": {},
   "outputs": [],
   "source": [
    "# create datasets\n",
    "train_dataset = CustomRoBERTaDataset(train_data[\"input_ids\"],\n",
    "                                     train_data[\"attention_mask\"],\n",
    "                                     train_data[\"labels\"], max_length=MAX_LENGTH)\n",
    "\n",
    "test_dataset = CustomRoBERTaDataset(test_data[\"input_ids\"],\n",
    "                                    test_data[\"attention_mask\"],\n",
    "                                    test_data[\"labels\"], max_length=MAX_LENGTH)"
   ]
  },
  {
   "cell_type": "code",
   "execution_count": 29,
   "id": "55061c34",
   "metadata": {},
   "outputs": [],
   "source": [
    "# save datasets\n",
    "\n",
    "torch.save(train_dataset, \"data/processed_train_dataset.pt\")\n",
    "torch.save(test_dataset, \"data/processed_test_dataset.pt\")"
   ]
  },
  {
   "cell_type": "code",
   "execution_count": 39,
   "id": "42b971eb",
   "metadata": {},
   "outputs": [
    {
     "data": {
      "text/plain": [
       "0.5003263707571801"
      ]
     },
     "execution_count": 39,
     "metadata": {},
     "output_type": "execute_result"
    }
   ],
   "source": [
    "s = 0\n",
    "for lst in dataset[\"train\"][\"labels\"]:\n",
    "    lst = list(map(lambda x: int(x != 0), lst))\n",
    "    s += any(lst)\n",
    "s / len(dataset[\"train\"][\"labels\"])"
   ]
  },
  {
   "cell_type": "code",
   "execution_count": null,
   "id": "62117ec4",
   "metadata": {},
   "outputs": [],
   "source": []
  }
 ],
 "metadata": {
  "kernelspec": {
   "display_name": "Python 3 (ipykernel)",
   "language": "python",
   "name": "python3"
  },
  "language_info": {
   "codemirror_mode": {
    "name": "ipython",
    "version": 3
   },
   "file_extension": ".py",
   "mimetype": "text/x-python",
   "name": "python",
   "nbconvert_exporter": "python",
   "pygments_lexer": "ipython3",
   "version": "3.9.16"
  }
 },
 "nbformat": 4,
 "nbformat_minor": 5
}
